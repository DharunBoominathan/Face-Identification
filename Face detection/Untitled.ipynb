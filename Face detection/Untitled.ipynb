{
 "cells": [
  {
   "cell_type": "code",
   "execution_count": 5,
   "id": "0ad9bdb9",
   "metadata": {},
   "outputs": [
    {
     "ename": "SyntaxError",
     "evalue": "EOL while scanning string literal (Temp/ipykernel_7652/3625195363.py, line 23)",
     "output_type": "error",
     "traceback": [
      "\u001b[1;36m  File \u001b[1;32m\"C:\\Users\\PRADEEP\\AppData\\Local\\Temp/ipykernel_7652/3625195363.py\"\u001b[1;36m, line \u001b[1;32m23\u001b[0m\n\u001b[1;33m    if cv2.waitKey(25) & 0xFF == ord('q):\u001b[0m\n\u001b[1;37m                                         ^\u001b[0m\n\u001b[1;31mSyntaxError\u001b[0m\u001b[1;31m:\u001b[0m EOL while scanning string literal\n"
     ]
    }
   ],
   "source": [
    "from mtcnn import MTCNN\n",
    "import cv2\n",
    " \n",
    "detector = MTCNN()\n",
    "#Load a video, if we were using google colab we would\n",
    "#need to upload the video to Google Colab\n",
    "cap = cv2.VideoCapture(\"data.mp4\")\n",
    " \n",
    "while(True):\n",
    "   ret, frame = cap.read()\n",
    "   frame = cv2.resize(frame, (600, 400))\n",
    "   boxes = detector.detect_faces(frame)\n",
    "   if boxes:\n",
    " \n",
    "       box = boxes[0]['box']\n",
    "       conf = boxes[0]['confidence']\n",
    "       x, y, w, h = box[0], box[1], box[2], box[3]\n",
    " \n",
    "       if conf > 0.5:\n",
    "           cv2.rectangle(frame, (x, y), (x+w, y+h), (255, 255, 255), 1)\n",
    " \n",
    "   cv2.imshow(\"Frame\", frame)\n",
    "   if cv2.waitKey(25) & 0xFF == ord('q'):\n",
    "       break\n",
    " "
   ]
  }
 ],
 "metadata": {
  "kernelspec": {
   "display_name": "Python 3 (ipykernel)",
   "language": "python",
   "name": "python3"
  },
  "language_info": {
   "codemirror_mode": {
    "name": "ipython",
    "version": 3
   },
   "file_extension": ".py",
   "mimetype": "text/x-python",
   "name": "python",
   "nbconvert_exporter": "python",
   "pygments_lexer": "ipython3",
   "version": "3.9.7"
  }
 },
 "nbformat": 4,
 "nbformat_minor": 5
}
